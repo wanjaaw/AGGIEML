{
 "cells": [
  {
   "cell_type": "markdown",
   "metadata": {},
   "source": [
    "OVERVIEW:\n",
    "Objective: Fit a regression model to predict the target variable using the provided training data and then make predictions on the test data."
   ]
  },
  {
   "cell_type": "code",
   "execution_count": null,
   "metadata": {
    "vscode": {
     "languageId": "plaintext"
    }
   },
   "outputs": [],
   "source": []
  }
 ],
 "metadata": {
  "language_info": {
   "name": "python"
  }
 },
 "nbformat": 4,
 "nbformat_minor": 2
}
