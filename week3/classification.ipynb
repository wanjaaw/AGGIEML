{
 "cells": [
  {
   "cell_type": "markdown",
   "metadata": {},
   "source": [
    "# Credit-risk-modelling-project-ML\n",
    "Credit risk modelling is at the core of any credit department in a major bank you can think of, and it revolutionizing the ways of availing facilities with tailored scores helping banks to maximize their risk return ratios and minimize the loss given default statistics. \n",
    "\n",
    "In this project, you already have a started notebook that will guide you through the steps involved in data clearning for credit risk modelling with machine learning. \n",
    "\n",
    "Typically, the pipeline involves \n",
    "- Gathering tha data \n",
    "- Data Quality/Data Cleaning \n",
    "- Developing the behaviourial scorecard (The machine learning/statistical model) \n",
    "- Using the model to predict scores (Credit rating) \n",
    "\n",
    "\n",
    "The starter notebook available will take you through a high level of the steps involved in transforming the data and developing the machine learning scorecard. \n",
    "The expectation will be for you to replicate the same adding important bits like :\n",
    "- Doing extra exploratory data analysis and providing insights on any notable trends \n",
    "- Performing indepth data cleaning and providing explations on the steps and rationale behind the methodology used e.g when handling the missing values, why would you opt for deletion rather than imputation \n",
    "- Doing extra feature engineering and feature selction to improve the model performance. \n",
    "- Using alternative models and providing adequate justification for the same. \n",
    "\n"
   ]
  }
 ],
 "metadata": {
  "language_info": {
   "name": "python"
  }
 },
 "nbformat": 4,
 "nbformat_minor": 2
}
